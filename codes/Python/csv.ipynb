{
 "cells": [
  {
   "cell_type": "code",
   "execution_count": null,
   "metadata": {},
   "outputs": [],
   "source": [
    "import csv\n",
    "\n",
    "def create_new_csv_without_every_second_row(input_csv, output_csv):\n",
    "    # Read the original CSV file\n",
    "    with open(input_csv, 'r', newline='') as file:\n",
    "        reader = csv.reader(file)\n",
    "        data = [row for row in reader]\n",
    "\n",
    "    # Remove every second row\n",
    "    new_data = [row for i, row in enumerate(data) if (i + 1) % 2 != 0]\n",
    "\n",
    "    # Write the modified data to a new CSV file\n",
    "    with open(output_csv, 'w', newline='') as file:\n",
    "        writer = csv.writer(file)\n",
    "        writer.writerows(new_data)\n",
    "\n",
    "# Example usage: Create a new CSV file without every second row from 'example.csv'\n",
    "input_csv_path = 'example.csv'\n",
    "output_csv_path = 'new_example.csv'\n",
    "create_new_csv_without_every_second_row(input_csv_path, output_csv_path)"
   ]
  }
 ],
 "metadata": {
  "kernelspec": {
   "display_name": "Python 3",
   "language": "python",
   "name": "python3"
  },
  "language_info": {
   "codemirror_mode": {
    "name": "ipython",
    "version": 3
   },
   "file_extension": ".py",
   "mimetype": "text/x-python",
   "name": "python",
   "nbconvert_exporter": "python",
   "pygments_lexer": "ipython3",
   "version": "3.11.5"
  },
  "orig_nbformat": 4
 },
 "nbformat": 4,
 "nbformat_minor": 2
}
